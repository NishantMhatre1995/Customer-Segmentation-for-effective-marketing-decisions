{
 "cells": [
  {
   "cell_type": "code",
   "execution_count": null,
   "id": "387a9f9c",
   "metadata": {},
   "outputs": [],
   "source": [
    "import warnings\n",
    "warnings.filterwarnings(\"ignore\")\n",
    "\n",
    "import numpy as np\n",
    "import pandas as pd\n",
    "import matplotlib.pyplot as plt\n",
    "import seaborn as sns\n",
    "from sklearn.preprocessing import LabelEncoder\n",
    "from sklearn.neighbors import KNeighborsClassifier\n",
    "from sklearn.model_selection import train_test_split\n",
    "\n",
    "pd.set_option('display.max_rows', 500)\n",
    "pd.set_option('display.max_columns', 500)\n",
    "pd.set_option('display.width', 1000)"
   ]
  },
  {
   "cell_type": "code",
   "execution_count": null,
   "id": "40d4331f",
   "metadata": {},
   "outputs": [],
   "source": [
    "df = pd.read_csv('Train.csv')\n",
    "print(df.shape)\n",
    "df.head()"
   ]
  },
  {
   "cell_type": "code",
   "execution_count": null,
   "id": "111a0937",
   "metadata": {},
   "outputs": [],
   "source": []
  },
  {
   "cell_type": "markdown",
   "id": "89f9e566",
   "metadata": {},
   "source": [
    "# Exploratory Data Analysis"
   ]
  },
  {
   "cell_type": "code",
   "execution_count": null,
   "id": "0ff25ce7",
   "metadata": {},
   "outputs": [],
   "source": []
  },
  {
   "cell_type": "code",
   "execution_count": null,
   "id": "ef660781",
   "metadata": {},
   "outputs": [],
   "source": [
    "# Histogram - Age\n",
    "df['Age'].hist()"
   ]
  },
  {
   "cell_type": "code",
   "execution_count": null,
   "id": "3bacdca8",
   "metadata": {},
   "outputs": [],
   "source": [
    "# Age Vs Spending_Score\n",
    "sns.scatterplot(data= df, x=\"Age\", y=\"Spending_Score\")"
   ]
  },
  {
   "cell_type": "code",
   "execution_count": null,
   "id": "fa5de79d",
   "metadata": {},
   "outputs": [],
   "source": [
    "plt.scatter(df[\"Age\"], df[\"Work_Experience\"])"
   ]
  },
  {
   "cell_type": "code",
   "execution_count": null,
   "id": "ff7ada73",
   "metadata": {},
   "outputs": [],
   "source": [
    "f, ax = plt.subplots(figsize=(12, 6))\n",
    "\n",
    "sns.countplot(df['Segmentation'],palette = \"bright\")\n",
    "#imbalance classes - it is not imbalanced"
   ]
  },
  {
   "cell_type": "code",
   "execution_count": null,
   "id": "d18d5d61",
   "metadata": {},
   "outputs": [],
   "source": [
    "label=pd.Categorical(df.Segmentation,categories=['A','B','C','D']).codes\n",
    "sns.countplot(df.Gender,hue=label,palette='tab10')"
   ]
  },
  {
   "cell_type": "code",
   "execution_count": null,
   "id": "fea30231",
   "metadata": {},
   "outputs": [],
   "source": [
    "sns.countplot(df.Ever_Married,hue=label,palette='hls')"
   ]
  },
  {
   "cell_type": "code",
   "execution_count": null,
   "id": "f7b9f4ea",
   "metadata": {},
   "outputs": [],
   "source": [
    "sns.countplot(df.Graduated,hue=label,palette='husl')"
   ]
  },
  {
   "cell_type": "code",
   "execution_count": null,
   "id": "b57c9a45",
   "metadata": {},
   "outputs": [],
   "source": [
    "sns.countplot(df.Profession,hue=label,palette='Paired')"
   ]
  },
  {
   "cell_type": "code",
   "execution_count": null,
   "id": "548577f2",
   "metadata": {},
   "outputs": [],
   "source": [
    "sns.countplot(df.Spending_Score,hue=label,palette='hls')"
   ]
  },
  {
   "cell_type": "code",
   "execution_count": null,
   "id": "83896151",
   "metadata": {},
   "outputs": [],
   "source": [
    "sns.countplot(df.Work_Experience,hue=label,palette='hls')"
   ]
  },
  {
   "cell_type": "code",
   "execution_count": null,
   "id": "5b646451",
   "metadata": {},
   "outputs": [],
   "source": [
    "sns.countplot(df.Family_Size,hue=label,palette='hls')"
   ]
  },
  {
   "cell_type": "code",
   "execution_count": null,
   "id": "10357359",
   "metadata": {},
   "outputs": [],
   "source": [
    "f, ax  = plt.subplots(2,2,figsize = (20,10))\n",
    "colors=[\"#FF7C00\", \"#E8000B\",\"#1AC938\"]\n",
    "df['Gender'].value_counts().plot.pie(title='Distribution of Gender',explode=[0,.1],\n",
    "                                           ax=ax[0][0],autopct=\"%.2f\",shadow = True,colors = colors)\n",
    "\n",
    "df['Ever_Married'].value_counts().plot.pie(title='Distribution of Ever_Married',explode=[0,.1],\n",
    "                                                 ax=ax[0][1],autopct=\"%.2f\",shadow = True,colors = colors)\n",
    "\n",
    "df['Graduated'].value_counts().plot.pie(title='Distribution of Graduated',explode=[0,.1],\n",
    "                                              ax=ax[1][0],autopct=\"%.2f\",shadow = True,colors = colors)\n",
    "\n",
    "df['Spending_Score'].value_counts().plot.pie(title='Distribution of Spending_Score',\n",
    "                                                   ax=ax[1][1],explode=[0,.1,.1],autopct=\"%.2f\",shadow = True,colors=colors)\n",
    "f.patch.set_facecolor('white')\n",
    "plt.show()"
   ]
  },
  {
   "cell_type": "code",
   "execution_count": null,
   "id": "681b1843",
   "metadata": {},
   "outputs": [],
   "source": []
  },
  {
   "cell_type": "markdown",
   "id": "fc02cfd4",
   "metadata": {},
   "source": [
    "# Data Preprocessing\n"
   ]
  },
  {
   "cell_type": "code",
   "execution_count": null,
   "id": "f29cd3b4",
   "metadata": {},
   "outputs": [],
   "source": [
    "# ID column is irrelevent for model so dropping it\n",
    "df.drop('ID', axis=1, inplace=True)\n",
    "drop_columns=[]"
   ]
  },
  {
   "cell_type": "code",
   "execution_count": null,
   "id": "c1c9c91b",
   "metadata": {},
   "outputs": [],
   "source": [
    "# Data cleaning before further processing\n",
    "t = df.isna().sum(axis=1).reset_index()\n",
    "print(t[0].value_counts())\n",
    "print('corrupt rows removal percentage:',(sum(t[0]>=2)/df.shape[0])*100)\n",
    "df = df[t[0]<2]\n",
    "print(df.shape)"
   ]
  },
  {
   "cell_type": "markdown",
   "id": "56a19f87",
   "metadata": {},
   "source": [
    "2% of data rows contain 2 or more null values in there features, so we can drop this rows before further preprocessing."
   ]
  },
  {
   "cell_type": "code",
   "execution_count": null,
   "id": "b1339d1c",
   "metadata": {},
   "outputs": [],
   "source": [
    "df.info()"
   ]
  },
  {
   "cell_type": "code",
   "execution_count": null,
   "id": "ecc7387e",
   "metadata": {},
   "outputs": [],
   "source": [
    "df.isna().sum()"
   ]
  },
  {
   "cell_type": "code",
   "execution_count": null,
   "id": "aaee6572",
   "metadata": {},
   "outputs": [],
   "source": [
    "df.head()"
   ]
  },
  {
   "cell_type": "code",
   "execution_count": null,
   "id": "b7dbe05f",
   "metadata": {},
   "outputs": [],
   "source": [
    "# Missing value - Graduate column treatment\n",
    "tmp = df.groupby(['Profession', 'Graduated']).Gender.count().reset_index().pivot(index='Profession', columns='Graduated', values='Gender')\n",
    "tmp['flag'] = 'No'\n",
    "tmp.flag[tmp.Yes>tmp.No]='Yes'\n",
    "\n",
    "mapping = tmp['flag'].to_dict()\n",
    "mapping\n",
    "mapping['No'] = 'No'\n",
    "mapping['Yes'] = 'Yes'\n",
    "\n",
    "df.Graduated.fillna(df.Profession,inplace=True)\n",
    "df.Graduated = df.Graduated.replace(mapping)\n",
    "df.Graduated.fillna('Yes', inplace=True)\n",
    "tmp.head()"
   ]
  },
  {
   "cell_type": "code",
   "execution_count": null,
   "id": "5f900ae7",
   "metadata": {},
   "outputs": [],
   "source": [
    "# Missing value - Family_Size column treatment\n",
    "tmp = df.groupby('Age').Family_Size.mean().round().reset_index()\n",
    "tmp.columns=['Age', 'tmp_Family_Size']\n",
    "\n",
    "df = df.merge(tmp, how='left', on='Age')\n",
    "df.Family_Size.fillna(df.tmp_Family_Size, inplace=True)\n",
    "drop_columns.append('tmp_Family_Size')\n",
    "\n",
    "df.drop('tmp_Family_Size', axis=1, inplace=True)"
   ]
  },
  {
   "cell_type": "code",
   "execution_count": null,
   "id": "922cfbc0",
   "metadata": {},
   "outputs": [],
   "source": [
    "df.isna().sum()"
   ]
  },
  {
   "cell_type": "code",
   "execution_count": null,
   "id": "693f3795",
   "metadata": {},
   "outputs": [],
   "source": [
    "# Missing value - Ever_Married column treatment\n",
    "tmp = df[~df.Ever_Married.isna()]\n",
    "\n",
    "tmp =tmp.groupby(['Age', 'Ever_Married']).Gender.count().reset_index().pivot(index='Age', columns='Ever_Married', values='Gender').reset_index()\n",
    "tmp['flag'] = (tmp.Yes>tmp.No)*1\n",
    "tmp.flag = tmp.flag.map({1:'Yes', 0:'No'})\n",
    "tmp\n",
    "\n",
    "df= df.merge(tmp[['Age', 'flag']], how='left', on='Age' )\n",
    "df.Ever_Married.fillna(df.flag,inplace=True)\n",
    "\n",
    "df.drop('flag', axis=1, inplace=True)"
   ]
  },
  {
   "cell_type": "code",
   "execution_count": null,
   "id": "b0a0d519",
   "metadata": {},
   "outputs": [],
   "source": [
    "df.isna().sum()"
   ]
  },
  {
   "cell_type": "code",
   "execution_count": null,
   "id": "47d29e8b",
   "metadata": {},
   "outputs": [],
   "source": [
    "#df.dropna(subset=['Profession', 'Var_1', 'Work_Experience'],inplace=True)\n",
    "df.dropna(subset=['Profession', 'Var_1'],inplace=True)"
   ]
  },
  {
   "cell_type": "code",
   "execution_count": null,
   "id": "17767e99",
   "metadata": {},
   "outputs": [],
   "source": [
    "df.Gender = df.Gender.map({'Male':1, 'Female':0})\n",
    "df.Ever_Married = df.Ever_Married.map({'Yes':1, 'No':0})\n",
    "df.Graduated = df.Graduated.map({'Yes':1, 'No':0})"
   ]
  },
  {
   "cell_type": "code",
   "execution_count": null,
   "id": "b54f97c6",
   "metadata": {},
   "outputs": [],
   "source": [
    "p = df.Profession.unique()\n",
    "p = {p:i for i,p in enumerate(p)}\n",
    "df.Profession = df.Profession.map(p)"
   ]
  },
  {
   "cell_type": "code",
   "execution_count": null,
   "id": "a008f359",
   "metadata": {},
   "outputs": [],
   "source": []
  },
  {
   "cell_type": "code",
   "execution_count": null,
   "id": "28546395",
   "metadata": {},
   "outputs": [],
   "source": []
  },
  {
   "cell_type": "code",
   "execution_count": null,
   "id": "385e68c8",
   "metadata": {},
   "outputs": [],
   "source": [
    "# Missing value - Work_Experience column treatment\n",
    "tmp_train = df[~df['Work_Experience'].isna()]\n",
    "tmp_test = df[df['Work_Experience'].isna()]\n",
    "\n",
    "print(tmp_train.shape, tmp_test.shape)"
   ]
  },
  {
   "cell_type": "code",
   "execution_count": null,
   "id": "fd9a36ec",
   "metadata": {},
   "outputs": [],
   "source": [
    "tmp_train_x = tmp_train.drop(['Work_Experience'], axis = 1)\n",
    "tmp_train_x = tmp_train_x[['Gender', 'Age', 'Graduated', 'Profession']]\n",
    "tmp_train_y = tmp_train['Work_Experience']"
   ]
  },
  {
   "cell_type": "code",
   "execution_count": null,
   "id": "54eab7c4",
   "metadata": {},
   "outputs": [],
   "source": [
    "# Reconstructing KNN using best parameters\n",
    "knn_c = KNeighborsClassifier(n_neighbors=73)\n",
    "knn_c.fit(tmp_train_x, tmp_train_y)\n",
    "\n",
    "predicted_y = knn_c.predict(tmp_test[tmp_train_x.columns])\n",
    "\n",
    "tmp_test['Work_Experience'] = predicted_y\n",
    "\n",
    "df = pd.concat([tmp_train, tmp_test])\n",
    "df.Profession = df.Profession.map({j:i for i,j in p.items()})"
   ]
  },
  {
   "cell_type": "code",
   "execution_count": null,
   "id": "3d984f3f",
   "metadata": {},
   "outputs": [],
   "source": [
    "df.head()"
   ]
  },
  {
   "cell_type": "code",
   "execution_count": null,
   "id": "e5701c01",
   "metadata": {},
   "outputs": [],
   "source": [
    "# ddf = pd.get_dummies(df.drop('Var_1', axis=1), columns=['Gender', 'Ever_Married','Graduated', 'Spending_Score', 'Profession'], drop_first=True)\n",
    "# ddf.head()\n",
    "\n",
    "\n",
    "# Best score is 53% for this code - age shouldn't be categorical feature\n",
    "ddf = pd.get_dummies(df.drop('Var_1', axis=1), columns=['Spending_Score', 'Profession'], drop_first=True)\n",
    "ddf.head()\n"
   ]
  },
  {
   "cell_type": "code",
   "execution_count": null,
   "id": "edad3995",
   "metadata": {},
   "outputs": [],
   "source": [
    "ddf.shape"
   ]
  },
  {
   "cell_type": "code",
   "execution_count": null,
   "id": "444f38c4",
   "metadata": {},
   "outputs": [],
   "source": []
  },
  {
   "cell_type": "code",
   "execution_count": null,
   "id": "1dc5ad1d",
   "metadata": {},
   "outputs": [],
   "source": [
    "le = LabelEncoder()\n",
    "ddf.Segmentation = le.fit_transform(ddf.Segmentation)\n",
    "X_train, X_test, y_train, y_test = train_test_split(ddf.drop('Segmentation', axis=1), \n",
    "                                                    ddf['Segmentation'],\n",
    "                                                    test_size=.3,\n",
    "                                                    random_state =0)"
   ]
  },
  {
   "cell_type": "markdown",
   "id": "31abe4fd",
   "metadata": {},
   "source": [
    "# Modeling"
   ]
  },
  {
   "cell_type": "code",
   "execution_count": null,
   "id": "aea201a0",
   "metadata": {},
   "outputs": [],
   "source": [
    "from sklearn.metrics import classification_report"
   ]
  },
  {
   "cell_type": "markdown",
   "id": "757b58e0",
   "metadata": {},
   "source": [
    "### Model 1: DecisionTreeClassifier "
   ]
  },
  {
   "cell_type": "code",
   "execution_count": null,
   "id": "a4f770fc",
   "metadata": {},
   "outputs": [],
   "source": [
    "from sklearn.tree import DecisionTreeClassifier\n",
    "clf = DecisionTreeClassifier(random_state=0)"
   ]
  },
  {
   "cell_type": "code",
   "execution_count": null,
   "id": "9c5fa1af",
   "metadata": {},
   "outputs": [],
   "source": [
    "model_decision_tree = clf.fit(X_train, y_train)"
   ]
  },
  {
   "cell_type": "code",
   "execution_count": null,
   "id": "ff8560da",
   "metadata": {},
   "outputs": [],
   "source": [
    "model_decision_tree.score(X_test, y_test)"
   ]
  },
  {
   "cell_type": "code",
   "execution_count": null,
   "id": "1c448cd5",
   "metadata": {},
   "outputs": [],
   "source": [
    "sklearn.metrics.f1_score"
   ]
  },
  {
   "cell_type": "code",
   "execution_count": null,
   "id": "5b5a0d9b",
   "metadata": {},
   "outputs": [],
   "source": [
    "y_pred = model_decision_tree.predict(X_test)"
   ]
  },
  {
   "cell_type": "code",
   "execution_count": null,
   "id": "b90d40fe",
   "metadata": {},
   "outputs": [],
   "source": []
  },
  {
   "cell_type": "code",
   "execution_count": null,
   "id": "a10b6567",
   "metadata": {},
   "outputs": [],
   "source": []
  },
  {
   "cell_type": "code",
   "execution_count": null,
   "id": "b279c196",
   "metadata": {},
   "outputs": [],
   "source": [
    "print(\"To evaluate the performace of train data on the model \\n\",classification_report(y_train,model_decision_tree.predict(X_train_scalled)))\n",
    "print(\"To evaluate the performace of validatation data on the model \\n\",classification_report(y_test,model_decision_tree.predict(X_test_scalled)))"
   ]
  },
  {
   "cell_type": "code",
   "execution_count": null,
   "id": "472369eb",
   "metadata": {},
   "outputs": [],
   "source": []
  },
  {
   "cell_type": "markdown",
   "id": "2dc3bb62",
   "metadata": {},
   "source": [
    "### Model 2: KNeighborsClassifier"
   ]
  },
  {
   "cell_type": "code",
   "execution_count": null,
   "id": "04e92572",
   "metadata": {},
   "outputs": [],
   "source": [
    "from sklearn.neighbors import KNeighborsClassifier\n",
    "clf = KNeighborsClassifier()"
   ]
  },
  {
   "cell_type": "code",
   "execution_count": null,
   "id": "6608efa7",
   "metadata": {},
   "outputs": [],
   "source": [
    "model_knn = clf.fit(X_train, y_train)"
   ]
  },
  {
   "cell_type": "code",
   "execution_count": null,
   "id": "ec178c45",
   "metadata": {},
   "outputs": [],
   "source": [
    "model_knn.score(X_test, y_test)"
   ]
  },
  {
   "cell_type": "code",
   "execution_count": null,
   "id": "8f640256",
   "metadata": {},
   "outputs": [],
   "source": [
    "print(\"To evaluate the performace of train data on the model \\n\",classification_report(y_train,model_knn.predict(X_train_scalled)))\n",
    "print(\"To evaluate the performace of validatation data on the model \\n\",classification_report(y_test,model_knn.predict(X_test_scalled)))"
   ]
  },
  {
   "cell_type": "code",
   "execution_count": null,
   "id": "a722f7bd",
   "metadata": {},
   "outputs": [],
   "source": []
  },
  {
   "cell_type": "markdown",
   "id": "2fd1764e",
   "metadata": {},
   "source": [
    "### Model 3: BaggingClassifier with GridSearchCV on DecisionTreeClassifier. (Hyperparameter tunning)"
   ]
  },
  {
   "cell_type": "code",
   "execution_count": null,
   "id": "cf989ea3",
   "metadata": {},
   "outputs": [],
   "source": [
    "from sklearn.ensemble import BaggingClassifier\n",
    "from sklearn.model_selection import GridSearchCV\n",
    "\n",
    "bagging = BaggingClassifier(base_estimator=DecisionTreeClassifier())\n",
    "\n",
    "parameter_bagging = {\"n_estimators\":[50,100,125],\n",
    "                  \"max_samples\":[0.4,0.6,0.8],\n",
    "                  \"max_features\":[0.2, 0.4,0.6],\n",
    "                  \"bootstrap\":[True,False]\n",
    "                }\n",
    "\n",
    "bagging_grid = GridSearchCV(bagging, parameter_bagging)"
   ]
  },
  {
   "cell_type": "code",
   "execution_count": null,
   "id": "89e8aa21",
   "metadata": {
    "scrolled": true
   },
   "outputs": [],
   "source": [
    "bagging_grid.fit(X_train,y_train)"
   ]
  },
  {
   "cell_type": "code",
   "execution_count": null,
   "id": "4398cdfd",
   "metadata": {},
   "outputs": [],
   "source": [
    "bagging_result = pd.DataFrame(bagging_grid.cv_results_).sort_values('rank_test_score')\n",
    "bagging_result.head()"
   ]
  },
  {
   "cell_type": "code",
   "execution_count": null,
   "id": "1ed98e5b",
   "metadata": {},
   "outputs": [],
   "source": [
    "# accuracy: 51%\n",
    "print(*bagging_result.params.head(5).to_list(), sep='\\n')"
   ]
  },
  {
   "cell_type": "code",
   "execution_count": null,
   "id": "a2b2bee8",
   "metadata": {},
   "outputs": [],
   "source": []
  },
  {
   "cell_type": "code",
   "execution_count": null,
   "id": "27bed2aa",
   "metadata": {},
   "outputs": [],
   "source": []
  },
  {
   "cell_type": "markdown",
   "id": "19856346",
   "metadata": {},
   "source": [
    "### Model 4: XGBClassifier"
   ]
  },
  {
   "cell_type": "code",
   "execution_count": null,
   "id": "d13ec996",
   "metadata": {},
   "outputs": [],
   "source": [
    "from xgboost import XGBClassifier\n",
    "\n",
    "model_xgb=XGBClassifier(learning_rate=0.1,n_jobs=-1,random_state=42,max_depth=15,n_estimators=1000,objective=\"multi:softproba\")\n",
    "model_xgb.fit(X_train,y_train)\n"
   ]
  },
  {
   "cell_type": "code",
   "execution_count": null,
   "id": "4d3f8952",
   "metadata": {},
   "outputs": [],
   "source": [
    "print(model_xgb.score(X_test,y_test))"
   ]
  },
  {
   "cell_type": "code",
   "execution_count": null,
   "id": "ad8fdda4",
   "metadata": {},
   "outputs": [],
   "source": [
    "print(\"To evaluate the performace of train data on the model \\n\",classification_report(y_train,model_xgb.predict(X_train_scalled)))\n",
    "print(\"To evaluate the performace of validatation data on the model \\n\",classification_report(y_test,model_xgb.predict(X_test_scalled)))"
   ]
  },
  {
   "cell_type": "code",
   "execution_count": null,
   "id": "342c03c0",
   "metadata": {},
   "outputs": [],
   "source": []
  },
  {
   "cell_type": "markdown",
   "id": "2f0ed9ca",
   "metadata": {},
   "source": [
    "### Model 5: Support Vector Classifier"
   ]
  },
  {
   "cell_type": "code",
   "execution_count": null,
   "id": "99b81293",
   "metadata": {},
   "outputs": [],
   "source": [
    "from sklearn.preprocessing import StandardScaler\n",
    "s = StandardScaler()\n",
    "X_train_scalled = X_train.copy()\n",
    "X_test_scalled = X_test.copy()\n",
    "X_train_scalled.loc[:,:] = s.fit_transform(X_train)\n",
    "X_test_scalled.loc[:,:] = s.transform(X_test)\n"
   ]
  },
  {
   "cell_type": "code",
   "execution_count": null,
   "id": "03a497eb",
   "metadata": {},
   "outputs": [],
   "source": [
    "from sklearn.svm import SVC\n",
    "from sklearn.pipeline import make_pipeline\n",
    "from sklearn.model_selection import cross_val_score\n",
    "\n",
    "model_svc = SVC(gamma='auto')"
   ]
  },
  {
   "cell_type": "code",
   "execution_count": null,
   "id": "f27f1f91",
   "metadata": {},
   "outputs": [],
   "source": [
    "model_svc.fit(X_train_scalled,y_train)"
   ]
  },
  {
   "cell_type": "code",
   "execution_count": null,
   "id": "ce0560e7",
   "metadata": {},
   "outputs": [],
   "source": [
    "model_svc.score(X_test_scalled, y_test)"
   ]
  },
  {
   "cell_type": "code",
   "execution_count": null,
   "id": "04219d50",
   "metadata": {},
   "outputs": [],
   "source": [
    "print(\"To evaluate the performace of train data on the model \\n\",classification_report(y_train,model_svc.predict(X_train_scalled)))\n",
    "print(\"To evaluate the performace of validatation data on the model \\n\",classification_report(y_test,model_svc.predict(X_test_scalled)))"
   ]
  },
  {
   "cell_type": "code",
   "execution_count": null,
   "id": "f58b43cd",
   "metadata": {},
   "outputs": [],
   "source": []
  },
  {
   "cell_type": "code",
   "execution_count": null,
   "id": "a7207513",
   "metadata": {},
   "outputs": [],
   "source": []
  }
 ],
 "metadata": {
  "kernelspec": {
   "display_name": "Python 3 (ipykernel)",
   "language": "python",
   "name": "python3"
  },
  "language_info": {
   "codemirror_mode": {
    "name": "ipython",
    "version": 3
   },
   "file_extension": ".py",
   "mimetype": "text/x-python",
   "name": "python",
   "nbconvert_exporter": "python",
   "pygments_lexer": "ipython3",
   "version": "3.9.12"
  }
 },
 "nbformat": 4,
 "nbformat_minor": 5
}
